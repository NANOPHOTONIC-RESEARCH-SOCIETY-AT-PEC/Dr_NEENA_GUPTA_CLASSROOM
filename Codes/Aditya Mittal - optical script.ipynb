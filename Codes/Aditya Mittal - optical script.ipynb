{
 "cells": [
  {
   "cell_type": "code",
   "execution_count": 1,
   "metadata": {},
   "outputs": [],
   "source": [
    "import pandas as pd\n",
    "import matplotlib.pyplot as plt\n",
    "import math\n",
    "import numpy as np"
   ]
  },
  {
   "cell_type": "markdown",
   "metadata": {},
   "source": [
    "<h4>Assumed values of delta</h4>"
   ]
  },
  {
   "cell_type": "code",
   "execution_count": 2,
   "metadata": {},
   "outputs": [
    {
     "data": {
      "text/plain": [
       "[0.0005, 0.006, 0.0115, 0.017, 0.0225, 0.028, 0.0335, 0.039, 0.0445, 0.05]"
      ]
     },
     "execution_count": 2,
     "metadata": {},
     "output_type": "execute_result"
    }
   ],
   "source": [
    "delta_min=0.0005\n",
    "delta_max=0.05\n",
    "number_of_values=10\n",
    "\n",
    "delta=[round(i,4) for i in np.linspace(delta_min,delta_max,number_of_values,endpoint=True)]\n",
    "\n",
    "delta"
   ]
  },
  {
   "cell_type": "code",
   "execution_count": 3,
   "metadata": {},
   "outputs": [],
   "source": [
    "n=1.46"
   ]
  },
  {
   "cell_type": "markdown",
   "metadata": {},
   "source": [
    "<p>******************************</p>\n",
    "<h4><i> formulas used are in the pdf attached</i></h4>\n",
    "<p>******************************</p>"
   ]
  },
  {
   "cell_type": "markdown",
   "metadata": {},
   "source": [
    "<br>\n",
    "<h3>Case-1  transmission at a wavelength <b><br><br>1.3 micro-meter</b></h3>\n",
    "<br>"
   ]
  },
  {
   "cell_type": "markdown",
   "metadata": {},
   "source": [
    "<br>\n",
    "<h4>a) design for a step-index profile</h4>\n",
    "<br>\n"
   ]
  },
  {
   "cell_type": "code",
   "execution_count": 4,
   "metadata": {},
   "outputs": [
    {
     "data": {
      "text/html": [
       "<div>\n",
       "<style scoped>\n",
       "    .dataframe tbody tr th:only-of-type {\n",
       "        vertical-align: middle;\n",
       "    }\n",
       "\n",
       "    .dataframe tbody tr th {\n",
       "        vertical-align: top;\n",
       "    }\n",
       "\n",
       "    .dataframe thead th {\n",
       "        text-align: right;\n",
       "    }\n",
       "</style>\n",
       "<table border=\"1\" class=\"dataframe\">\n",
       "  <thead>\n",
       "    <tr style=\"text-align: right;\">\n",
       "      <th></th>\n",
       "      <th>delta</th>\n",
       "      <th>d^2(m)</th>\n",
       "      <th>d(m)</th>\n",
       "      <th>d(um)</th>\n",
       "    </tr>\n",
       "  </thead>\n",
       "  <tbody>\n",
       "    <tr>\n",
       "      <th>1</th>\n",
       "      <td>0.0005</td>\n",
       "      <td>4.65116e-10</td>\n",
       "      <td>2.15666e-05</td>\n",
       "      <td>21.5666</td>\n",
       "    </tr>\n",
       "    <tr>\n",
       "      <th>2</th>\n",
       "      <td>0.006</td>\n",
       "      <td>3.87597e-11</td>\n",
       "      <td>6.22573e-06</td>\n",
       "      <td>6.22573</td>\n",
       "    </tr>\n",
       "    <tr>\n",
       "      <th>3</th>\n",
       "      <td>0.0115</td>\n",
       "      <td>2.02224e-11</td>\n",
       "      <td>4.49694e-06</td>\n",
       "      <td>4.49694</td>\n",
       "    </tr>\n",
       "    <tr>\n",
       "      <th>4</th>\n",
       "      <td>0.017</td>\n",
       "      <td>1.36799e-11</td>\n",
       "      <td>3.69863e-06</td>\n",
       "      <td>3.69863</td>\n",
       "    </tr>\n",
       "    <tr>\n",
       "      <th>5</th>\n",
       "      <td>0.0225</td>\n",
       "      <td>1.03359e-11</td>\n",
       "      <td>3.21495e-06</td>\n",
       "      <td>3.21495</td>\n",
       "    </tr>\n",
       "    <tr>\n",
       "      <th>6</th>\n",
       "      <td>0.028</td>\n",
       "      <td>8.30565e-12</td>\n",
       "      <td>2.88195e-06</td>\n",
       "      <td>2.88195</td>\n",
       "    </tr>\n",
       "    <tr>\n",
       "      <th>7</th>\n",
       "      <td>0.0335</td>\n",
       "      <td>6.94203e-12</td>\n",
       "      <td>2.63477e-06</td>\n",
       "      <td>2.63477</td>\n",
       "    </tr>\n",
       "    <tr>\n",
       "      <th>8</th>\n",
       "      <td>0.039</td>\n",
       "      <td>5.96303e-12</td>\n",
       "      <td>2.44193e-06</td>\n",
       "      <td>2.44193</td>\n",
       "    </tr>\n",
       "    <tr>\n",
       "      <th>9</th>\n",
       "      <td>0.0445</td>\n",
       "      <td>5.22603e-12</td>\n",
       "      <td>2.28605e-06</td>\n",
       "      <td>2.28605</td>\n",
       "    </tr>\n",
       "    <tr>\n",
       "      <th>10</th>\n",
       "      <td>0.05</td>\n",
       "      <td>4.65116e-12</td>\n",
       "      <td>2.15666e-06</td>\n",
       "      <td>2.15666</td>\n",
       "    </tr>\n",
       "  </tbody>\n",
       "</table>\n",
       "</div>"
      ],
      "text/plain": [
       "     delta       d^2(m)         d(m)    d(um)\n",
       "1   0.0005  4.65116e-10  2.15666e-05  21.5666\n",
       "2    0.006  3.87597e-11  6.22573e-06  6.22573\n",
       "3   0.0115  2.02224e-11  4.49694e-06  4.49694\n",
       "4    0.017  1.36799e-11  3.69863e-06  3.69863\n",
       "5   0.0225  1.03359e-11  3.21495e-06  3.21495\n",
       "6    0.028  8.30565e-12  2.88195e-06  2.88195\n",
       "7   0.0335  6.94203e-12  2.63477e-06  2.63477\n",
       "8    0.039  5.96303e-12  2.44193e-06  2.44193\n",
       "9   0.0445  5.22603e-12  2.28605e-06  2.28605\n",
       "10    0.05  4.65116e-12  2.15666e-06  2.15666"
      ]
     },
     "execution_count": 4,
     "metadata": {},
     "output_type": "execute_result"
    }
   ],
   "source": [
    "table1=pd.DataFrame(columns=['delta','d^2(m)','d(m)','d(um)'],index=[i+1 for i in range(len(delta))])\n",
    "\n",
    "formula=1/(4.30*(10**12))\n",
    "\n",
    "for i in table1.index:\n",
    "    table1['delta'][i]=delta[i-1]\n",
    "    table1['d^2(m)'][i]=formula*(delta[i-1]**(-1))\n",
    "    table1['d(m)'][i]=table1['d^2(m)'][i]**(1/2)\n",
    "    table1['d(um)'][i]=table1['d(m)'][i]*1000000\n",
    "\n",
    "table1"
   ]
  },
  {
   "cell_type": "markdown",
   "metadata": {},
   "source": [
    "<br>\n",
    "<h4>b) design for a quadratic graded profile (p=2)</h4>\n",
    "<br>\n",
    "\n"
   ]
  },
  {
   "cell_type": "code",
   "execution_count": 5,
   "metadata": {},
   "outputs": [
    {
     "data": {
      "text/html": [
       "<div>\n",
       "<style scoped>\n",
       "    .dataframe tbody tr th:only-of-type {\n",
       "        vertical-align: middle;\n",
       "    }\n",
       "\n",
       "    .dataframe tbody tr th {\n",
       "        vertical-align: top;\n",
       "    }\n",
       "\n",
       "    .dataframe thead th {\n",
       "        text-align: right;\n",
       "    }\n",
       "</style>\n",
       "<table border=\"1\" class=\"dataframe\">\n",
       "  <thead>\n",
       "    <tr style=\"text-align: right;\">\n",
       "      <th></th>\n",
       "      <th>delta</th>\n",
       "      <th>d^2(m)</th>\n",
       "      <th>d(m)</th>\n",
       "      <th>d(um)</th>\n",
       "    </tr>\n",
       "  </thead>\n",
       "  <tbody>\n",
       "    <tr>\n",
       "      <th>1</th>\n",
       "      <td>0.0005</td>\n",
       "      <td>3.21543e-10</td>\n",
       "      <td>1.79316e-05</td>\n",
       "      <td>17.9316</td>\n",
       "    </tr>\n",
       "    <tr>\n",
       "      <th>2</th>\n",
       "      <td>0.006</td>\n",
       "      <td>2.67953e-11</td>\n",
       "      <td>5.17642e-06</td>\n",
       "      <td>5.17642</td>\n",
       "    </tr>\n",
       "    <tr>\n",
       "      <th>3</th>\n",
       "      <td>0.0115</td>\n",
       "      <td>1.39801e-11</td>\n",
       "      <td>3.739e-06</td>\n",
       "      <td>3.739</td>\n",
       "    </tr>\n",
       "    <tr>\n",
       "      <th>4</th>\n",
       "      <td>0.017</td>\n",
       "      <td>9.45716e-12</td>\n",
       "      <td>3.07525e-06</td>\n",
       "      <td>3.07525</td>\n",
       "    </tr>\n",
       "    <tr>\n",
       "      <th>5</th>\n",
       "      <td>0.0225</td>\n",
       "      <td>7.14541e-12</td>\n",
       "      <td>2.67309e-06</td>\n",
       "      <td>2.67309</td>\n",
       "    </tr>\n",
       "    <tr>\n",
       "      <th>6</th>\n",
       "      <td>0.028</td>\n",
       "      <td>5.74185e-12</td>\n",
       "      <td>2.39622e-06</td>\n",
       "      <td>2.39622</td>\n",
       "    </tr>\n",
       "    <tr>\n",
       "      <th>7</th>\n",
       "      <td>0.0335</td>\n",
       "      <td>4.79916e-12</td>\n",
       "      <td>2.1907e-06</td>\n",
       "      <td>2.1907</td>\n",
       "    </tr>\n",
       "    <tr>\n",
       "      <th>8</th>\n",
       "      <td>0.039</td>\n",
       "      <td>4.12235e-12</td>\n",
       "      <td>2.03036e-06</td>\n",
       "      <td>2.03036</td>\n",
       "    </tr>\n",
       "    <tr>\n",
       "      <th>9</th>\n",
       "      <td>0.0445</td>\n",
       "      <td>3.61285e-12</td>\n",
       "      <td>1.90075e-06</td>\n",
       "      <td>1.90075</td>\n",
       "    </tr>\n",
       "    <tr>\n",
       "      <th>10</th>\n",
       "      <td>0.05</td>\n",
       "      <td>3.21543e-12</td>\n",
       "      <td>1.79316e-06</td>\n",
       "      <td>1.79316</td>\n",
       "    </tr>\n",
       "  </tbody>\n",
       "</table>\n",
       "</div>"
      ],
      "text/plain": [
       "     delta       d^2(m)         d(m)    d(um)\n",
       "1   0.0005  3.21543e-10  1.79316e-05  17.9316\n",
       "2    0.006  2.67953e-11  5.17642e-06  5.17642\n",
       "3   0.0115  1.39801e-11    3.739e-06    3.739\n",
       "4    0.017  9.45716e-12  3.07525e-06  3.07525\n",
       "5   0.0225  7.14541e-12  2.67309e-06  2.67309\n",
       "6    0.028  5.74185e-12  2.39622e-06  2.39622\n",
       "7   0.0335  4.79916e-12   2.1907e-06   2.1907\n",
       "8    0.039  4.12235e-12  2.03036e-06  2.03036\n",
       "9   0.0445  3.61285e-12  1.90075e-06  1.90075\n",
       "10    0.05  3.21543e-12  1.79316e-06  1.79316"
      ]
     },
     "execution_count": 5,
     "metadata": {},
     "output_type": "execute_result"
    }
   ],
   "source": [
    "table2=pd.DataFrame(columns=['delta','d^2(m)','d(m)','d(um)'],index=[i+1 for i in range(len(delta))])\n",
    "\n",
    "formula=1/(6.22*(10**12))\n",
    "\n",
    "for i in table2.index:\n",
    "    table2['delta'][i]=delta[i-1]\n",
    "    table2['d^2(m)'][i]=formula*(delta[i-1]**(-1))\n",
    "    table2['d(m)'][i]=table2['d^2(m)'][i]**(1/2)\n",
    "    table2['d(um)'][i]=table2['d(m)'][i]*1000000\n",
    "\n",
    "table2"
   ]
  },
  {
   "cell_type": "code",
   "execution_count": 6,
   "metadata": {},
   "outputs": [
    {
     "data": {
      "image/png": "[encoded data removed]",
      "text/plain": [
       "<Figure size 432x288 with 1 Axes>"
      ]
     },
     "metadata": {
      "needs_background": "light"
     },
     "output_type": "display_data"
    }
   ],
   "source": [
    "plt.plot(table1['delta'],table1['d(um)'],label='step-index')\n",
    "plt.plot(table2['delta'],table2['d(um)'],label='graded-index')\n",
    "plt.grid()\n",
    "plt.xlabel('delta')\n",
    "plt.ylabel('diameter (um)')\n",
    "plt.title('Diameter vs delta at 1300 nm')\n",
    "plt.legend()\n",
    "plt.show()"
   ]
  },
  {
   "cell_type": "markdown",
   "metadata": {},
   "source": [
    "<br>\n",
    "<h4>c) Finally show the variation of NA (numerical aperture) with the acceptance angle</h4>\n",
    "<br>\n",
    "\n",
    "\n"
   ]
  },
  {
   "cell_type": "code",
   "execution_count": 7,
   "metadata": {},
   "outputs": [
    {
     "data": {
      "text/html": [
       "<div>\n",
       "<style scoped>\n",
       "    .dataframe tbody tr th:only-of-type {\n",
       "        vertical-align: middle;\n",
       "    }\n",
       "\n",
       "    .dataframe tbody tr th {\n",
       "        vertical-align: top;\n",
       "    }\n",
       "\n",
       "    .dataframe thead th {\n",
       "        text-align: right;\n",
       "    }\n",
       "</style>\n",
       "<table border=\"1\" class=\"dataframe\">\n",
       "  <thead>\n",
       "    <tr style=\"text-align: right;\">\n",
       "      <th></th>\n",
       "      <th>delta</th>\n",
       "      <th>NA</th>\n",
       "      <th>Acceptance Angle</th>\n",
       "    </tr>\n",
       "  </thead>\n",
       "  <tbody>\n",
       "    <tr>\n",
       "      <th>1</th>\n",
       "      <td>0.0005</td>\n",
       "      <td>0.0461693</td>\n",
       "      <td>2.64624</td>\n",
       "    </tr>\n",
       "    <tr>\n",
       "      <th>2</th>\n",
       "      <td>0.006</td>\n",
       "      <td>0.159935</td>\n",
       "      <td>9.20312</td>\n",
       "    </tr>\n",
       "    <tr>\n",
       "      <th>3</th>\n",
       "      <td>0.0115</td>\n",
       "      <td>0.22142</td>\n",
       "      <td>12.7924</td>\n",
       "    </tr>\n",
       "    <tr>\n",
       "      <th>4</th>\n",
       "      <td>0.017</td>\n",
       "      <td>0.269211</td>\n",
       "      <td>15.6173</td>\n",
       "    </tr>\n",
       "    <tr>\n",
       "      <th>5</th>\n",
       "      <td>0.0225</td>\n",
       "      <td>0.309713</td>\n",
       "      <td>18.0419</td>\n",
       "    </tr>\n",
       "    <tr>\n",
       "      <th>6</th>\n",
       "      <td>0.028</td>\n",
       "      <td>0.345499</td>\n",
       "      <td>20.2123</td>\n",
       "    </tr>\n",
       "    <tr>\n",
       "      <th>7</th>\n",
       "      <td>0.0335</td>\n",
       "      <td>0.377912</td>\n",
       "      <td>22.2044</td>\n",
       "    </tr>\n",
       "    <tr>\n",
       "      <th>8</th>\n",
       "      <td>0.039</td>\n",
       "      <td>0.407756</td>\n",
       "      <td>24.0639</td>\n",
       "    </tr>\n",
       "    <tr>\n",
       "      <th>9</th>\n",
       "      <td>0.0445</td>\n",
       "      <td>0.43556</td>\n",
       "      <td>25.8209</td>\n",
       "    </tr>\n",
       "    <tr>\n",
       "      <th>10</th>\n",
       "      <td>0.05</td>\n",
       "      <td>0.461693</td>\n",
       "      <td>27.4964</td>\n",
       "    </tr>\n",
       "  </tbody>\n",
       "</table>\n",
       "</div>"
      ],
      "text/plain": [
       "     delta         NA Acceptance Angle\n",
       "1   0.0005  0.0461693          2.64624\n",
       "2    0.006   0.159935          9.20312\n",
       "3   0.0115    0.22142          12.7924\n",
       "4    0.017   0.269211          15.6173\n",
       "5   0.0225   0.309713          18.0419\n",
       "6    0.028   0.345499          20.2123\n",
       "7   0.0335   0.377912          22.2044\n",
       "8    0.039   0.407756          24.0639\n",
       "9   0.0445    0.43556          25.8209\n",
       "10    0.05   0.461693          27.4964"
      ]
     },
     "execution_count": 7,
     "metadata": {},
     "output_type": "execute_result"
    }
   ],
   "source": [
    "table=pd.DataFrame(columns=['delta','NA','Acceptance Angle'],index=[i+1 for i in range(len(delta))])\n",
    "\n",
    "\n",
    "for i in table.index:\n",
    "    table['delta'][i]=delta[i-1]\n",
    "    table['NA'][i]=n*((2*delta[i-1])**(1/2))\n",
    "    table['Acceptance Angle'][i]=math.degrees(math.asin(table['NA'][i]))\n",
    "table"
   ]
  },
  {
   "cell_type": "code",
   "execution_count": 8,
   "metadata": {},
   "outputs": [
    {
     "data": {
      "image/png": "[encoded data removed]",
      "text/plain": [
       "<Figure size 432x288 with 1 Axes>"
      ]
     },
     "metadata": {
      "needs_background": "light"
     },
     "output_type": "display_data"
    }
   ],
   "source": [
    "plt.plot(table['NA'],table['Acceptance Angle'])\n",
    "plt.grid()\n",
    "plt.xlabel('NA')\n",
    "plt.ylabel('Acceptance Angle (degrees)')\n",
    "plt.title('NA vs Acceptance Angle')\n",
    "plt.show()"
   ]
  },
  {
   "cell_type": "markdown",
   "metadata": {},
   "source": [
    "<br><br><br>\n",
    "<h3>Case-2  transmission at a wavelength <b><br><br>1.5 micro-meter</b></h3>\n",
    "<br>"
   ]
  },
  {
   "cell_type": "markdown",
   "metadata": {},
   "source": [
    "<br>\n",
    "<h4>a) design for a step-index profile</h4>\n",
    "<br>\n",
    "\n"
   ]
  },
  {
   "cell_type": "code",
   "execution_count": 9,
   "metadata": {},
   "outputs": [
    {
     "data": {
      "text/html": [
       "<div>\n",
       "<style scoped>\n",
       "    .dataframe tbody tr th:only-of-type {\n",
       "        vertical-align: middle;\n",
       "    }\n",
       "\n",
       "    .dataframe tbody tr th {\n",
       "        vertical-align: top;\n",
       "    }\n",
       "\n",
       "    .dataframe thead th {\n",
       "        text-align: right;\n",
       "    }\n",
       "</style>\n",
       "<table border=\"1\" class=\"dataframe\">\n",
       "  <thead>\n",
       "    <tr style=\"text-align: right;\">\n",
       "      <th></th>\n",
       "      <th>delta</th>\n",
       "      <th>d^2(m)</th>\n",
       "      <th>d(m)</th>\n",
       "      <th>d(um)</th>\n",
       "    </tr>\n",
       "  </thead>\n",
       "  <tbody>\n",
       "    <tr>\n",
       "      <th>1</th>\n",
       "      <td>0.0005</td>\n",
       "      <td>6.19195e-10</td>\n",
       "      <td>2.48836e-05</td>\n",
       "      <td>24.8836</td>\n",
       "    </tr>\n",
       "    <tr>\n",
       "      <th>2</th>\n",
       "      <td>0.006</td>\n",
       "      <td>5.15996e-11</td>\n",
       "      <td>7.18329e-06</td>\n",
       "      <td>7.18329</td>\n",
       "    </tr>\n",
       "    <tr>\n",
       "      <th>3</th>\n",
       "      <td>0.0115</td>\n",
       "      <td>2.69215e-11</td>\n",
       "      <td>5.1886e-06</td>\n",
       "      <td>5.1886</td>\n",
       "    </tr>\n",
       "    <tr>\n",
       "      <th>4</th>\n",
       "      <td>0.017</td>\n",
       "      <td>1.82116e-11</td>\n",
       "      <td>4.26751e-06</td>\n",
       "      <td>4.26751</td>\n",
       "    </tr>\n",
       "    <tr>\n",
       "      <th>5</th>\n",
       "      <td>0.0225</td>\n",
       "      <td>1.37599e-11</td>\n",
       "      <td>3.70943e-06</td>\n",
       "      <td>3.70943</td>\n",
       "    </tr>\n",
       "    <tr>\n",
       "      <th>6</th>\n",
       "      <td>0.028</td>\n",
       "      <td>1.10571e-11</td>\n",
       "      <td>3.32521e-06</td>\n",
       "      <td>3.32521</td>\n",
       "    </tr>\n",
       "    <tr>\n",
       "      <th>7</th>\n",
       "      <td>0.0335</td>\n",
       "      <td>9.24172e-12</td>\n",
       "      <td>3.04002e-06</td>\n",
       "      <td>3.04002</td>\n",
       "    </tr>\n",
       "    <tr>\n",
       "      <th>8</th>\n",
       "      <td>0.039</td>\n",
       "      <td>7.9384e-12</td>\n",
       "      <td>2.81752e-06</td>\n",
       "      <td>2.81752</td>\n",
       "    </tr>\n",
       "    <tr>\n",
       "      <th>9</th>\n",
       "      <td>0.0445</td>\n",
       "      <td>6.95725e-12</td>\n",
       "      <td>2.63766e-06</td>\n",
       "      <td>2.63766</td>\n",
       "    </tr>\n",
       "    <tr>\n",
       "      <th>10</th>\n",
       "      <td>0.05</td>\n",
       "      <td>6.19195e-12</td>\n",
       "      <td>2.48836e-06</td>\n",
       "      <td>2.48836</td>\n",
       "    </tr>\n",
       "  </tbody>\n",
       "</table>\n",
       "</div>"
      ],
      "text/plain": [
       "     delta       d^2(m)         d(m)    d(um)\n",
       "1   0.0005  6.19195e-10  2.48836e-05  24.8836\n",
       "2    0.006  5.15996e-11  7.18329e-06  7.18329\n",
       "3   0.0115  2.69215e-11   5.1886e-06   5.1886\n",
       "4    0.017  1.82116e-11  4.26751e-06  4.26751\n",
       "5   0.0225  1.37599e-11  3.70943e-06  3.70943\n",
       "6    0.028  1.10571e-11  3.32521e-06  3.32521\n",
       "7   0.0335  9.24172e-12  3.04002e-06  3.04002\n",
       "8    0.039   7.9384e-12  2.81752e-06  2.81752\n",
       "9   0.0445  6.95725e-12  2.63766e-06  2.63766\n",
       "10    0.05  6.19195e-12  2.48836e-06  2.48836"
      ]
     },
     "execution_count": 9,
     "metadata": {},
     "output_type": "execute_result"
    }
   ],
   "source": [
    "table1=pd.DataFrame(columns=['delta','d^2(m)','d(m)','d(um)'],index=[i+1 for i in range(len(delta))])\n",
    "\n",
    "formula=1/(3.23*(10**12))\n",
    "\n",
    "for i in table1.index:\n",
    "    table1['delta'][i]=delta[i-1]\n",
    "    table1['d^2(m)'][i]=formula*(delta[i-1]**(-1))\n",
    "    table1['d(m)'][i]=table1['d^2(m)'][i]**(1/2)\n",
    "    table1['d(um)'][i]=table1['d(m)'][i]*1000000\n",
    "\n",
    "table1"
   ]
  },
  {
   "cell_type": "markdown",
   "metadata": {},
   "source": [
    "<br>\n",
    "<h4>b) design for a quadratic graded profile (p=2)</h4>\n",
    "<br>\n",
    "\n",
    "\n"
   ]
  },
  {
   "cell_type": "code",
   "execution_count": 10,
   "metadata": {},
   "outputs": [
    {
     "data": {
      "text/html": [
       "<div>\n",
       "<style scoped>\n",
       "    .dataframe tbody tr th:only-of-type {\n",
       "        vertical-align: middle;\n",
       "    }\n",
       "\n",
       "    .dataframe tbody tr th {\n",
       "        vertical-align: top;\n",
       "    }\n",
       "\n",
       "    .dataframe thead th {\n",
       "        text-align: right;\n",
       "    }\n",
       "</style>\n",
       "<table border=\"1\" class=\"dataframe\">\n",
       "  <thead>\n",
       "    <tr style=\"text-align: right;\">\n",
       "      <th></th>\n",
       "      <th>delta</th>\n",
       "      <th>d^2(m)</th>\n",
       "      <th>d(m)</th>\n",
       "      <th>d(um)</th>\n",
       "    </tr>\n",
       "  </thead>\n",
       "  <tbody>\n",
       "    <tr>\n",
       "      <th>1</th>\n",
       "      <td>0.0005</td>\n",
       "      <td>4.28266e-10</td>\n",
       "      <td>2.06946e-05</td>\n",
       "      <td>20.6946</td>\n",
       "    </tr>\n",
       "    <tr>\n",
       "      <th>2</th>\n",
       "      <td>0.006</td>\n",
       "      <td>3.56888e-11</td>\n",
       "      <td>5.97401e-06</td>\n",
       "      <td>5.97401</td>\n",
       "    </tr>\n",
       "    <tr>\n",
       "      <th>3</th>\n",
       "      <td>0.0115</td>\n",
       "      <td>1.86202e-11</td>\n",
       "      <td>4.31512e-06</td>\n",
       "      <td>4.31512</td>\n",
       "    </tr>\n",
       "    <tr>\n",
       "      <th>4</th>\n",
       "      <td>0.017</td>\n",
       "      <td>1.2596e-11</td>\n",
       "      <td>3.54909e-06</td>\n",
       "      <td>3.54909</td>\n",
       "    </tr>\n",
       "    <tr>\n",
       "      <th>5</th>\n",
       "      <td>0.0225</td>\n",
       "      <td>9.51701e-12</td>\n",
       "      <td>3.08497e-06</td>\n",
       "      <td>3.08497</td>\n",
       "    </tr>\n",
       "    <tr>\n",
       "      <th>6</th>\n",
       "      <td>0.028</td>\n",
       "      <td>7.6476e-12</td>\n",
       "      <td>2.76543e-06</td>\n",
       "      <td>2.76543</td>\n",
       "    </tr>\n",
       "    <tr>\n",
       "      <th>7</th>\n",
       "      <td>0.0335</td>\n",
       "      <td>6.39202e-12</td>\n",
       "      <td>2.52824e-06</td>\n",
       "      <td>2.52824</td>\n",
       "    </tr>\n",
       "    <tr>\n",
       "      <th>8</th>\n",
       "      <td>0.039</td>\n",
       "      <td>5.49058e-12</td>\n",
       "      <td>2.3432e-06</td>\n",
       "      <td>2.3432</td>\n",
       "    </tr>\n",
       "    <tr>\n",
       "      <th>9</th>\n",
       "      <td>0.0445</td>\n",
       "      <td>4.81197e-12</td>\n",
       "      <td>2.19362e-06</td>\n",
       "      <td>2.19362</td>\n",
       "    </tr>\n",
       "    <tr>\n",
       "      <th>10</th>\n",
       "      <td>0.05</td>\n",
       "      <td>4.28266e-12</td>\n",
       "      <td>2.06946e-06</td>\n",
       "      <td>2.06946</td>\n",
       "    </tr>\n",
       "  </tbody>\n",
       "</table>\n",
       "</div>"
      ],
      "text/plain": [
       "     delta       d^2(m)         d(m)    d(um)\n",
       "1   0.0005  4.28266e-10  2.06946e-05  20.6946\n",
       "2    0.006  3.56888e-11  5.97401e-06  5.97401\n",
       "3   0.0115  1.86202e-11  4.31512e-06  4.31512\n",
       "4    0.017   1.2596e-11  3.54909e-06  3.54909\n",
       "5   0.0225  9.51701e-12  3.08497e-06  3.08497\n",
       "6    0.028   7.6476e-12  2.76543e-06  2.76543\n",
       "7   0.0335  6.39202e-12  2.52824e-06  2.52824\n",
       "8    0.039  5.49058e-12   2.3432e-06   2.3432\n",
       "9   0.0445  4.81197e-12  2.19362e-06  2.19362\n",
       "10    0.05  4.28266e-12  2.06946e-06  2.06946"
      ]
     },
     "execution_count": 10,
     "metadata": {},
     "output_type": "execute_result"
    }
   ],
   "source": [
    "table2=pd.DataFrame(columns=['delta','d^2(m)','d(m)','d(um)'],index=[i+1 for i in range(len(delta))])\n",
    "\n",
    "formula=1/(4.67*(10**12))\n",
    "\n",
    "for i in table2.index:\n",
    "    table2['delta'][i]=delta[i-1]\n",
    "    table2['d^2(m)'][i]=formula*(delta[i-1]**(-1))\n",
    "    table2['d(m)'][i]=table2['d^2(m)'][i]**(1/2)\n",
    "    table2['d(um)'][i]=table2['d(m)'][i]*1000000\n",
    "\n",
    "table2"
   ]
  },
  {
   "cell_type": "code",
   "execution_count": 11,
   "metadata": {},
   "outputs": [
    {
     "data": {
      "image/png": "[encoded data removed]",
      "text/plain": [
       "<Figure size 432x288 with 1 Axes>"
      ]
     },
     "metadata": {
      "needs_background": "light"
     },
     "output_type": "display_data"
    }
   ],
   "source": [
    "plt.plot(table1['delta'],table1['d(um)'],label='step-index')\n",
    "plt.plot(table2['delta'],table2['d(um)'],label='graded-index')\n",
    "plt.grid()\n",
    "plt.xlabel('delta')\n",
    "plt.ylabel('diameter (um)')\n",
    "plt.title('Diameter vs delta at 1500 nm')\n",
    "plt.legend()\n",
    "plt.show()"
   ]
  },
  {
   "cell_type": "markdown",
   "metadata": {},
   "source": [
    "<br>\n",
    "<h4>c) Finally show the variation of NA (numerical aperture) with the acceptance angle</h4>\n",
    "<br>\n",
    "\n",
    "\n",
    "\n"
   ]
  },
  {
   "cell_type": "code",
   "execution_count": 12,
   "metadata": {},
   "outputs": [
    {
     "data": {
      "text/html": [
       "<div>\n",
       "<style scoped>\n",
       "    .dataframe tbody tr th:only-of-type {\n",
       "        vertical-align: middle;\n",
       "    }\n",
       "\n",
       "    .dataframe tbody tr th {\n",
       "        vertical-align: top;\n",
       "    }\n",
       "\n",
       "    .dataframe thead th {\n",
       "        text-align: right;\n",
       "    }\n",
       "</style>\n",
       "<table border=\"1\" class=\"dataframe\">\n",
       "  <thead>\n",
       "    <tr style=\"text-align: right;\">\n",
       "      <th></th>\n",
       "      <th>delta</th>\n",
       "      <th>NA</th>\n",
       "      <th>Acceptance Angle</th>\n",
       "    </tr>\n",
       "  </thead>\n",
       "  <tbody>\n",
       "    <tr>\n",
       "      <th>1</th>\n",
       "      <td>0.0005</td>\n",
       "      <td>0.0461693</td>\n",
       "      <td>2.64624</td>\n",
       "    </tr>\n",
       "    <tr>\n",
       "      <th>2</th>\n",
       "      <td>0.006</td>\n",
       "      <td>0.159935</td>\n",
       "      <td>9.20312</td>\n",
       "    </tr>\n",
       "    <tr>\n",
       "      <th>3</th>\n",
       "      <td>0.0115</td>\n",
       "      <td>0.22142</td>\n",
       "      <td>12.7924</td>\n",
       "    </tr>\n",
       "    <tr>\n",
       "      <th>4</th>\n",
       "      <td>0.017</td>\n",
       "      <td>0.269211</td>\n",
       "      <td>15.6173</td>\n",
       "    </tr>\n",
       "    <tr>\n",
       "      <th>5</th>\n",
       "      <td>0.0225</td>\n",
       "      <td>0.309713</td>\n",
       "      <td>18.0419</td>\n",
       "    </tr>\n",
       "    <tr>\n",
       "      <th>6</th>\n",
       "      <td>0.028</td>\n",
       "      <td>0.345499</td>\n",
       "      <td>20.2123</td>\n",
       "    </tr>\n",
       "    <tr>\n",
       "      <th>7</th>\n",
       "      <td>0.0335</td>\n",
       "      <td>0.377912</td>\n",
       "      <td>22.2044</td>\n",
       "    </tr>\n",
       "    <tr>\n",
       "      <th>8</th>\n",
       "      <td>0.039</td>\n",
       "      <td>0.407756</td>\n",
       "      <td>24.0639</td>\n",
       "    </tr>\n",
       "    <tr>\n",
       "      <th>9</th>\n",
       "      <td>0.0445</td>\n",
       "      <td>0.43556</td>\n",
       "      <td>25.8209</td>\n",
       "    </tr>\n",
       "    <tr>\n",
       "      <th>10</th>\n",
       "      <td>0.05</td>\n",
       "      <td>0.461693</td>\n",
       "      <td>27.4964</td>\n",
       "    </tr>\n",
       "  </tbody>\n",
       "</table>\n",
       "</div>"
      ],
      "text/plain": [
       "     delta         NA Acceptance Angle\n",
       "1   0.0005  0.0461693          2.64624\n",
       "2    0.006   0.159935          9.20312\n",
       "3   0.0115    0.22142          12.7924\n",
       "4    0.017   0.269211          15.6173\n",
       "5   0.0225   0.309713          18.0419\n",
       "6    0.028   0.345499          20.2123\n",
       "7   0.0335   0.377912          22.2044\n",
       "8    0.039   0.407756          24.0639\n",
       "9   0.0445    0.43556          25.8209\n",
       "10    0.05   0.461693          27.4964"
      ]
     },
     "execution_count": 12,
     "metadata": {},
     "output_type": "execute_result"
    }
   ],
   "source": [
    "table=pd.DataFrame(columns=['delta','NA','Acceptance Angle'],index=[i+1 for i in range(len(delta))])\n",
    "\n",
    "\n",
    "for i in table.index:\n",
    "    table['delta'][i]=delta[i-1]\n",
    "    table['NA'][i]=n*((2*delta[i-1])**(1/2))\n",
    "    table['Acceptance Angle'][i]=math.degrees(math.asin(table['NA'][i]))\n",
    "table"
   ]
  },
  {
   "cell_type": "code",
   "execution_count": 13,
   "metadata": {},
   "outputs": [
    {
     "data": {
      "image/png": "[encoded data removed]",
      "text/plain": [
       "<Figure size 432x288 with 1 Axes>"
      ]
     },
     "metadata": {
      "needs_background": "light"
     },
     "output_type": "display_data"
    }
   ],
   "source": [
    "plt.plot(table['NA'],table['Acceptance Angle'])\n",
    "plt.grid()\n",
    "plt.xlabel('NA')\n",
    "plt.ylabel('Acceptance Angle (degrees)')\n",
    "plt.title('NA vs Acceptance Angle')\n",
    "plt.show()"
   ]
  },
  {
   "cell_type": "markdown",
   "metadata": {},
   "source": [
    "<br><br><br>\n",
    "<h3>Case-3  transmission at a wavelength <b><br><br>Both 1.3 and 1.5 micro-meter</b></h3>\n",
    "<br>"
   ]
  },
  {
   "cell_type": "markdown",
   "metadata": {},
   "source": [
    "##############<br>\n",
    "Considering<br>\n",
    "d(min)=8 um<br>\n",
    "d(max)=10 um<br><br>\n"
   ]
  },
  {
   "cell_type": "code",
   "execution_count": 14,
   "metadata": {},
   "outputs": [
    {
     "data": {
      "text/plain": [
       "[8, 9, 10]"
      ]
     },
     "execution_count": 14,
     "metadata": {},
     "output_type": "execute_result"
    }
   ],
   "source": [
    "d_min=8\n",
    "d_max=10\n",
    "dia_range=[i for i in range(d_min,d_max+1)]\n",
    "dia_range"
   ]
  },
  {
   "cell_type": "code",
   "execution_count": 15,
   "metadata": {},
   "outputs": [
    {
     "name": "stdout",
     "output_type": "stream",
     "text": [
      "\n",
      " step index 1300 nm \n",
      "\n"
     ]
    },
    {
     "data": {
      "text/html": [
       "<div>\n",
       "<style scoped>\n",
       "    .dataframe tbody tr th:only-of-type {\n",
       "        vertical-align: middle;\n",
       "    }\n",
       "\n",
       "    .dataframe tbody tr th {\n",
       "        vertical-align: top;\n",
       "    }\n",
       "\n",
       "    .dataframe thead th {\n",
       "        text-align: right;\n",
       "    }\n",
       "</style>\n",
       "<table border=\"1\" class=\"dataframe\">\n",
       "  <thead>\n",
       "    <tr style=\"text-align: right;\">\n",
       "      <th></th>\n",
       "      <th></th>\n",
       "      <th>d (um)</th>\n",
       "      <th>delta</th>\n",
       "    </tr>\n",
       "  </thead>\n",
       "  <tbody>\n",
       "    <tr>\n",
       "      <th>1</th>\n",
       "      <td>d_min</td>\n",
       "      <td>8</td>\n",
       "      <td>0.00363372</td>\n",
       "    </tr>\n",
       "    <tr>\n",
       "      <th>2</th>\n",
       "      <td>d_mid</td>\n",
       "      <td>9</td>\n",
       "      <td>0.00287109</td>\n",
       "    </tr>\n",
       "    <tr>\n",
       "      <th>3</th>\n",
       "      <td>d_max</td>\n",
       "      <td>10</td>\n",
       "      <td>0.00232558</td>\n",
       "    </tr>\n",
       "  </tbody>\n",
       "</table>\n",
       "</div>"
      ],
      "text/plain": [
       "         d (um)       delta\n",
       "1  d_min      8  0.00363372\n",
       "2  d_mid      9  0.00287109\n",
       "3  d_max     10  0.00232558"
      ]
     },
     "execution_count": 15,
     "metadata": {},
     "output_type": "execute_result"
    }
   ],
   "source": [
    "table1=pd.DataFrame(columns=[' ','d (um)','delta'],index=[i+1 for i in range(len(dia_range))])\n",
    "table1[' ']=['d_min','d_mid','d_max']\n",
    "formula=1/(4.30*(10**12))\n",
    "\n",
    "for i in table1.index:\n",
    "    table1['d (um)'][i]=dia_range[i-1]\n",
    "    table1['delta'][i]=formula*(((dia_range[i-1]/1000000)**2)**(-1))\n",
    "    \n",
    "print(\"\\n step index 1300 nm \\n\")\n",
    "table1"
   ]
  },
  {
   "cell_type": "code",
   "execution_count": 16,
   "metadata": {},
   "outputs": [
    {
     "name": "stdout",
     "output_type": "stream",
     "text": [
      "\n",
      " step index 1500 nm \n",
      "\n"
     ]
    },
    {
     "data": {
      "text/html": [
       "<div>\n",
       "<style scoped>\n",
       "    .dataframe tbody tr th:only-of-type {\n",
       "        vertical-align: middle;\n",
       "    }\n",
       "\n",
       "    .dataframe tbody tr th {\n",
       "        vertical-align: top;\n",
       "    }\n",
       "\n",
       "    .dataframe thead th {\n",
       "        text-align: right;\n",
       "    }\n",
       "</style>\n",
       "<table border=\"1\" class=\"dataframe\">\n",
       "  <thead>\n",
       "    <tr style=\"text-align: right;\">\n",
       "      <th></th>\n",
       "      <th></th>\n",
       "      <th>d (um)</th>\n",
       "      <th>delta</th>\n",
       "    </tr>\n",
       "  </thead>\n",
       "  <tbody>\n",
       "    <tr>\n",
       "      <th>1</th>\n",
       "      <td>d_min</td>\n",
       "      <td>8</td>\n",
       "      <td>0.00483746</td>\n",
       "    </tr>\n",
       "    <tr>\n",
       "      <th>2</th>\n",
       "      <td>d_mid</td>\n",
       "      <td>9</td>\n",
       "      <td>0.00382219</td>\n",
       "    </tr>\n",
       "    <tr>\n",
       "      <th>3</th>\n",
       "      <td>d_max</td>\n",
       "      <td>10</td>\n",
       "      <td>0.00309598</td>\n",
       "    </tr>\n",
       "  </tbody>\n",
       "</table>\n",
       "</div>"
      ],
      "text/plain": [
       "         d (um)       delta\n",
       "1  d_min      8  0.00483746\n",
       "2  d_mid      9  0.00382219\n",
       "3  d_max     10  0.00309598"
      ]
     },
     "execution_count": 16,
     "metadata": {},
     "output_type": "execute_result"
    }
   ],
   "source": [
    "table2=pd.DataFrame(columns=[' ','d (um)','delta'],index=[i+1 for i in range(len(dia_range))])\n",
    "table2[' ']=['d_min','d_mid','d_max']\n",
    "formula=1/(3.23*(10**12))\n",
    "\n",
    "for i in table2.index:\n",
    "    table2['d (um)'][i]=dia_range[i-1]\n",
    "    table2['delta'][i]=formula*(((dia_range[i-1]/1000000)**2)**(-1))\n",
    "\n",
    "print(\"\\n step index 1500 nm \\n\")\n",
    "table2"
   ]
  },
  {
   "cell_type": "code",
   "execution_count": 17,
   "metadata": {},
   "outputs": [
    {
     "name": "stdout",
     "output_type": "stream",
     "text": [
      "\n",
      " graded index 1300 nm \n",
      "\n"
     ]
    },
    {
     "data": {
      "text/html": [
       "<div>\n",
       "<style scoped>\n",
       "    .dataframe tbody tr th:only-of-type {\n",
       "        vertical-align: middle;\n",
       "    }\n",
       "\n",
       "    .dataframe tbody tr th {\n",
       "        vertical-align: top;\n",
       "    }\n",
       "\n",
       "    .dataframe thead th {\n",
       "        text-align: right;\n",
       "    }\n",
       "</style>\n",
       "<table border=\"1\" class=\"dataframe\">\n",
       "  <thead>\n",
       "    <tr style=\"text-align: right;\">\n",
       "      <th></th>\n",
       "      <th></th>\n",
       "      <th>d (um)</th>\n",
       "      <th>delta</th>\n",
       "    </tr>\n",
       "  </thead>\n",
       "  <tbody>\n",
       "    <tr>\n",
       "      <th>1</th>\n",
       "      <td>d_min</td>\n",
       "      <td>8</td>\n",
       "      <td>0.00251206</td>\n",
       "    </tr>\n",
       "    <tr>\n",
       "      <th>2</th>\n",
       "      <td>d_mid</td>\n",
       "      <td>9</td>\n",
       "      <td>0.00198484</td>\n",
       "    </tr>\n",
       "    <tr>\n",
       "      <th>3</th>\n",
       "      <td>d_max</td>\n",
       "      <td>10</td>\n",
       "      <td>0.00160772</td>\n",
       "    </tr>\n",
       "  </tbody>\n",
       "</table>\n",
       "</div>"
      ],
      "text/plain": [
       "         d (um)       delta\n",
       "1  d_min      8  0.00251206\n",
       "2  d_mid      9  0.00198484\n",
       "3  d_max     10  0.00160772"
      ]
     },
     "execution_count": 17,
     "metadata": {},
     "output_type": "execute_result"
    }
   ],
   "source": [
    "table3=pd.DataFrame(columns=[' ','d (um)','delta'],index=[i+1 for i in range(len(dia_range))])\n",
    "table3[' ']=['d_min','d_mid','d_max']\n",
    "formula=1/(6.22*(10**12))\n",
    "\n",
    "for i in table3.index:\n",
    "    table3['d (um)'][i]=dia_range[i-1]\n",
    "    table3['delta'][i]=formula*(((dia_range[i-1]/1000000)**2)**(-1))\n",
    "    \n",
    "print(\"\\n graded index 1300 nm \\n\")\n",
    "table3"
   ]
  },
  {
   "cell_type": "code",
   "execution_count": 18,
   "metadata": {},
   "outputs": [
    {
     "name": "stdout",
     "output_type": "stream",
     "text": [
      "\n",
      " graded index 1500 nm \n",
      "\n"
     ]
    },
    {
     "data": {
      "text/html": [
       "<div>\n",
       "<style scoped>\n",
       "    .dataframe tbody tr th:only-of-type {\n",
       "        vertical-align: middle;\n",
       "    }\n",
       "\n",
       "    .dataframe tbody tr th {\n",
       "        vertical-align: top;\n",
       "    }\n",
       "\n",
       "    .dataframe thead th {\n",
       "        text-align: right;\n",
       "    }\n",
       "</style>\n",
       "<table border=\"1\" class=\"dataframe\">\n",
       "  <thead>\n",
       "    <tr style=\"text-align: right;\">\n",
       "      <th></th>\n",
       "      <th></th>\n",
       "      <th>d (um)</th>\n",
       "      <th>delta</th>\n",
       "    </tr>\n",
       "  </thead>\n",
       "  <tbody>\n",
       "    <tr>\n",
       "      <th>1</th>\n",
       "      <td>d_min</td>\n",
       "      <td>8</td>\n",
       "      <td>0.00334582</td>\n",
       "    </tr>\n",
       "    <tr>\n",
       "      <th>2</th>\n",
       "      <td>d_mid</td>\n",
       "      <td>9</td>\n",
       "      <td>0.00264361</td>\n",
       "    </tr>\n",
       "    <tr>\n",
       "      <th>3</th>\n",
       "      <td>d_max</td>\n",
       "      <td>10</td>\n",
       "      <td>0.00214133</td>\n",
       "    </tr>\n",
       "  </tbody>\n",
       "</table>\n",
       "</div>"
      ],
      "text/plain": [
       "         d (um)       delta\n",
       "1  d_min      8  0.00334582\n",
       "2  d_mid      9  0.00264361\n",
       "3  d_max     10  0.00214133"
      ]
     },
     "execution_count": 18,
     "metadata": {},
     "output_type": "execute_result"
    }
   ],
   "source": [
    "table4=pd.DataFrame(columns=[' ','d (um)','delta'],index=[i+1 for i in range(len(dia_range))])\n",
    "table4[' ']=['d_min','d_mid','d_max']\n",
    "formula=1/(4.67*(10**12))\n",
    "\n",
    "for i in table3.index:\n",
    "    table4['d (um)'][i]=dia_range[i-1]\n",
    "    table4['delta'][i]=formula*(((dia_range[i-1]/1000000)**2)**(-1))\n",
    "    \n",
    "print(\"\\n graded index 1500 nm \\n\")\n",
    "table4"
   ]
  },
  {
   "cell_type": "code",
   "execution_count": 19,
   "metadata": {},
   "outputs": [
    {
     "data": {
      "image/png": "[encoded data removed]",
      "text/plain": [
       "<Figure size 432x288 with 1 Axes>"
      ]
     },
     "metadata": {
      "needs_background": "light"
     },
     "output_type": "display_data"
    }
   ],
   "source": [
    "plt.plot(table1['d (um)'],table1['delta'],label='step-index - 1300 nm')\n",
    "plt.plot(table2['d (um)'],table2['delta'],label='step-index - 1500 nm')\n",
    "plt.plot(table3['d (um)'],table3['delta'],label='graded-index - 1300 nm')\n",
    "plt.plot(table4['d (um)'],table4['delta'],label='graded-index - 1500 nm')\n",
    "plt.grid()\n",
    "plt.xlabel('diameter')\n",
    "plt.ylabel('delta')\n",
    "plt.title('delta vs diameter at 1300 nm and 1500 nm')\n",
    "plt.legend()\n",
    "plt.show()"
   ]
  },
  {
   "cell_type": "markdown",
   "metadata": {},
   "source": [
    "<br>\n",
    "<h4>c) Finally show the variation of NA (numerical aperture) with the acceptance angle</h4>\n",
    "<br>\n",
    "\n",
    "\n",
    "\n",
    "\n"
   ]
  },
  {
   "cell_type": "code",
   "execution_count": 20,
   "metadata": {},
   "outputs": [
    {
     "data": {
      "text/html": [
       "<div>\n",
       "<style scoped>\n",
       "    .dataframe tbody tr th:only-of-type {\n",
       "        vertical-align: middle;\n",
       "    }\n",
       "\n",
       "    .dataframe tbody tr th {\n",
       "        vertical-align: top;\n",
       "    }\n",
       "\n",
       "    .dataframe thead th {\n",
       "        text-align: right;\n",
       "    }\n",
       "</style>\n",
       "<table border=\"1\" class=\"dataframe\">\n",
       "  <thead>\n",
       "    <tr style=\"text-align: right;\">\n",
       "      <th></th>\n",
       "      <th>delta</th>\n",
       "      <th>NA</th>\n",
       "      <th>Acceptance Angle</th>\n",
       "    </tr>\n",
       "  </thead>\n",
       "  <tbody>\n",
       "    <tr>\n",
       "      <th>1</th>\n",
       "      <td>0.00363372</td>\n",
       "      <td>0.124464</td>\n",
       "      <td>7.1498</td>\n",
       "    </tr>\n",
       "    <tr>\n",
       "      <th>2</th>\n",
       "      <td>0.00287109</td>\n",
       "      <td>0.110635</td>\n",
       "      <td>6.3519</td>\n",
       "    </tr>\n",
       "    <tr>\n",
       "      <th>3</th>\n",
       "      <td>0.00232558</td>\n",
       "      <td>0.0995712</td>\n",
       "      <td>5.71448</td>\n",
       "    </tr>\n",
       "    <tr>\n",
       "      <th>4</th>\n",
       "      <td>0.00483746</td>\n",
       "      <td>0.143607</td>\n",
       "      <td>8.25664</td>\n",
       "    </tr>\n",
       "    <tr>\n",
       "      <th>5</th>\n",
       "      <td>0.00382219</td>\n",
       "      <td>0.127651</td>\n",
       "      <td>7.33387</td>\n",
       "    </tr>\n",
       "    <tr>\n",
       "      <th>6</th>\n",
       "      <td>0.00309598</td>\n",
       "      <td>0.114886</td>\n",
       "      <td>6.59704</td>\n",
       "    </tr>\n",
       "    <tr>\n",
       "      <th>7</th>\n",
       "      <td>0.00251206</td>\n",
       "      <td>0.103486</td>\n",
       "      <td>5.93996</td>\n",
       "    </tr>\n",
       "    <tr>\n",
       "      <th>8</th>\n",
       "      <td>0.00198484</td>\n",
       "      <td>0.0919878</td>\n",
       "      <td>5.27797</td>\n",
       "    </tr>\n",
       "    <tr>\n",
       "      <th>9</th>\n",
       "      <td>0.00160772</td>\n",
       "      <td>0.082789</td>\n",
       "      <td>4.7489</td>\n",
       "    </tr>\n",
       "    <tr>\n",
       "      <th>10</th>\n",
       "      <td>0.00334582</td>\n",
       "      <td>0.119432</td>\n",
       "      <td>6.8593</td>\n",
       "    </tr>\n",
       "    <tr>\n",
       "      <th>11</th>\n",
       "      <td>0.00264361</td>\n",
       "      <td>0.106161</td>\n",
       "      <td>6.09409</td>\n",
       "    </tr>\n",
       "    <tr>\n",
       "      <th>12</th>\n",
       "      <td>0.00214133</td>\n",
       "      <td>0.0955453</td>\n",
       "      <td>5.48271</td>\n",
       "    </tr>\n",
       "  </tbody>\n",
       "</table>\n",
       "</div>"
      ],
      "text/plain": [
       "         delta         NA Acceptance Angle\n",
       "1   0.00363372   0.124464           7.1498\n",
       "2   0.00287109   0.110635           6.3519\n",
       "3   0.00232558  0.0995712          5.71448\n",
       "4   0.00483746   0.143607          8.25664\n",
       "5   0.00382219   0.127651          7.33387\n",
       "6   0.00309598   0.114886          6.59704\n",
       "7   0.00251206   0.103486          5.93996\n",
       "8   0.00198484  0.0919878          5.27797\n",
       "9   0.00160772   0.082789           4.7489\n",
       "10  0.00334582   0.119432           6.8593\n",
       "11  0.00264361   0.106161          6.09409\n",
       "12  0.00214133  0.0955453          5.48271"
      ]
     },
     "execution_count": 20,
     "metadata": {},
     "output_type": "execute_result"
    }
   ],
   "source": [
    "table=pd.DataFrame(columns=['delta','NA','Acceptance Angle'],index=[i+1 for i in range(4*len(dia_range))])\n",
    "\n",
    "k=1\n",
    "for i in table1.index:\n",
    "    table['delta'][k]=table1['delta'][i]\n",
    "    table['NA'][k]=n*((2*table1['delta'][i])**(1/2))\n",
    "    table['Acceptance Angle'][k]=math.degrees(math.asin(table['NA'][k]))\n",
    "    k+=1\n",
    "    \n",
    "for i in table2.index:\n",
    "    table['delta'][k]=table2['delta'][i]\n",
    "    table['NA'][k]=n*((2*table2['delta'][i])**(1/2))\n",
    "    table['Acceptance Angle'][k]=math.degrees(math.asin(table['NA'][k]))\n",
    "    k+=1\n",
    "    \n",
    "for i in table3.index:\n",
    "    table['delta'][k]=table3['delta'][i]\n",
    "    table['NA'][k]=n*((2*table3['delta'][i])**(1/2))\n",
    "    table['Acceptance Angle'][k]=math.degrees(math.asin(table['NA'][k]))\n",
    "    k+=1\n",
    "    \n",
    "for i in table4.index:\n",
    "    table['delta'][k]=table4['delta'][i]\n",
    "    table['NA'][k]=n*((2*table4['delta'][i])**(1/2))\n",
    "    table['Acceptance Angle'][k]=math.degrees(math.asin(table['NA'][k]))\n",
    "    k+=1\n",
    "    \n",
    "table"
   ]
  },
  {
   "cell_type": "code",
   "execution_count": 21,
   "metadata": {},
   "outputs": [
    {
     "data": {
      "image/png": "[encoded data removed]",
      "text/plain": [
       "<Figure size 432x288 with 1 Axes>"
      ]
     },
     "metadata": {
      "needs_background": "light"
     },
     "output_type": "display_data"
    }
   ],
   "source": [
    "plt.plot(table['NA'],table['Acceptance Angle'])\n",
    "plt.grid()\n",
    "plt.xlabel('NA')\n",
    "plt.ylabel('Acceptance Angle (degrees)')\n",
    "plt.title('NA vs Acceptance Angle')\n",
    "plt.show()"
   ]
  },
  {
   "cell_type": "code",
   "execution_count": null,
   "metadata": {},
   "outputs": [],
   "source": []
  }
 ],
 "metadata": {
  "kernelspec": {
   "display_name": "Python 3",
   "language": "python",
   "name": "python3"
  },
  "language_info": {
   "codemirror_mode": {
    "name": "ipython",
    "version": 3
   },
   "file_extension": ".py",
   "mimetype": "text/x-python",
   "name": "python",
   "nbconvert_exporter": "python",
   "pygments_lexer": "ipython3",
   "version": "3.7.6"
  }
 },
 "nbformat": 4,
 "nbformat_minor": 4
}
